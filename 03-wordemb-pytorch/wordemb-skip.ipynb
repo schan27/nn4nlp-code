{
 "cells": [
  {
   "cell_type": "code",
   "execution_count": 1,
   "metadata": {},
   "outputs": [],
   "source": [
    "from collections import defaultdict\n",
    "import math\n",
    "import time\n",
    "import random\n",
    "import torch"
   ]
  },
  {
   "cell_type": "code",
   "execution_count": 6,
   "metadata": {},
   "outputs": [],
   "source": [
    "class WordEmbSkip(torch.nn.Module):\n",
    "    def __init__(self, nwords, emb_size):\n",
    "        super(WordEmbSkip, self).__init__()\n",
    "\n",
    "        \"\"\" word embeddings \"\"\"\n",
    "        self.word_embedding = torch.nn.Embedding(nwords, emb_size)\n",
    "        # uniform initialization\n",
    "        torch.nn.init.uniform_(self.word_embedding.weight, -0.25, 0.25)\n",
    "        \"\"\" context embeddings\"\"\"\n",
    "        self.context_embedding = torch.nn.Parameter(torch.randn(emb_size, nwords))\n",
    "\n",
    "    def forward(self, word):\n",
    "        embed_word = self.word_embedding(word)    # 1 * emb_size\n",
    "        # (1, emb_size) * (emb_size, nwords) = (1, nwords)\n",
    "        out = torch.mm(embed_word, self.context_embedding)  # 1 * nwords\n",
    "        return out"
   ]
  },
  {
   "cell_type": "code",
   "execution_count": 7,
   "metadata": {},
   "outputs": [],
   "source": [
    "N = 2  # length of window on each side (so N=2 gives a total window size of 5, as in t-2 t-1 t t+1 t+2)\n",
    "EMB_SIZE = 128  # The size of the embedding\n",
    "\n",
    "embeddings_location = \"embeddings.txt\"  # the file to write the word embeddings to\n",
    "labels_location = \"labels.txt\"  # the file to write the labels to\n",
    "\n",
    "# We reuse the data reading from the language modeling class\n",
    "w2i = defaultdict(lambda: len(w2i))\n",
    "S = w2i[\"<s>\"]\n",
    "UNK = w2i[\"<unk>\"]\n",
    "\n",
    "def read_dataset(filename):\n",
    "    with open(filename, \"r\") as f:\n",
    "        for line in f:\n",
    "            yield [w2i[x] for x in line.strip().split(\" \")]\n",
    "\n",
    "\n",
    "# Read in the data\n",
    "train = list(read_dataset(\"../data/ptb/train.txt\"))\n",
    "w2i = defaultdict(lambda: UNK, w2i)\n",
    "dev = list(read_dataset(\"../data/ptb/valid.txt\"))\n",
    "i2w = {v: k for k, v in w2i.items()}\n",
    "nwords = len(w2i)\n",
    "\n",
    "import os \n",
    "if not os.path.exists(labels_location):\n",
    "    with open(labels_location, 'w') as labels_file:\n",
    "        for i in range(nwords):\n",
    "            labels_file.write(i2w[i] + '\\n')"
   ]
  },
  {
   "cell_type": "code",
   "execution_count": 9,
   "metadata": {},
   "outputs": [],
   "source": [
    "# initialize the model\n",
    "model = WordEmbSkip(nwords, EMB_SIZE)\n",
    "criterion = torch.nn.CrossEntropyLoss()\n",
    "optimizer = torch.optim.SGD(model.parameters(), lr=0.1)\n",
    "\n",
    "data_type = torch.LongTensor\n",
    "use_cuda = torch.cuda.is_available()\n",
    "\n",
    "if use_cuda:\n",
    "    data_type = torch.cuda.LongTensor\n",
    "    model.cuda()"
   ]
  },
  {
   "cell_type": "markdown",
   "metadata": {},
   "source": [
    "### [Understanding nn.CrossEntropyLoss](https://discuss.pytorch.org/t/how-exactly-should-i-understand-the-cross-entropy-loss-function/61183/2)"
   ]
  },
  {
   "cell_type": "code",
   "execution_count": 10,
   "metadata": {},
   "outputs": [],
   "source": [
    "def calc_sent_loss(sent):\n",
    "    losses = []\n",
    "    for i, word in enumerate(sent):\n",
    "        for j in range(1, N+1):\n",
    "            for direction in [-1, 1]:\n",
    "                # c is Tensor for center word\n",
    "                c = torch.tensor([word]).type(data_type)\n",
    "                context_id = sent[i+direction*j] if 0 <= i+direction*j < len(sent) else S\n",
    "                # context is Tensor for context word\n",
    "                context = torch.tensor([context_id]).type(data_type)\n",
    "                logits = model(c)\n",
    "                \n",
    "                # Predict context given center word\n",
    "                loss = criterion(logits, context)\n",
    "                losses.append(loss)\n",
    "    return torch.stack(losses).sum()"
   ]
  },
  {
   "cell_type": "code",
   "execution_count": 11,
   "metadata": {},
   "outputs": [
    {
     "data": {
      "text/plain": [
       "3370"
      ]
     },
     "execution_count": 11,
     "metadata": {},
     "output_type": "execute_result"
    }
   ],
   "source": [
    "len(dev)"
   ]
  },
  {
   "cell_type": "code",
   "execution_count": 12,
   "metadata": {},
   "outputs": [
    {
     "name": "stdout",
     "output_type": "stream",
     "text": [
      "started iter 0\n",
      "--finished 5000 sentences\n",
      "--finished 10000 sentences\n",
      "--finished 15000 sentences\n",
      "--finished 20000 sentences\n",
      "--finished 25000 sentences\n",
      "--finished 30000 sentences\n",
      "--finished 35000 sentences\n",
      "--finished 40000 sentences\n",
      "iter 0: train loss/word=nan, ppl=nan, time=2507.6852102279663\n",
      "iter 0: train loss/word=nan, ppl=nan, time=51.093786001205444\n"
     ]
    }
   ],
   "source": [
    "for ITER in range(1):\n",
    "    print(\"started iter %r\" % ITER)\n",
    "    \n",
    "    # Start training\n",
    "    random.shuffle(train)\n",
    "    train_words, train_loss = 0, 0.0\n",
    "    start = time.time()\n",
    "    model.train()\n",
    "    \n",
    "    for sent_id, sent in enumerate(train):\n",
    "        my_loss = calc_sent_loss(sent)\n",
    "        train_loss += my_loss.item()\n",
    "        train_words += len(sent)\n",
    "        \n",
    "        # Take step after calculating loss for all words in sent\n",
    "        optimizer.zero_grad()  # Zero the gradients \n",
    "        my_loss.backward()\n",
    "        optimizer.step()\n",
    "        \n",
    "        if (sent_id+1) % 5000 == 0:\n",
    "            print(\"--finished {} sentences\".format(sent_id+1))\n",
    "    \n",
    "    print(\"iter {}: train loss/word={}, ppl={}, time={}\".format(\n",
    "        ITER,\n",
    "        train_loss/train_words,\n",
    "        math.exp(train_loss/train_words),\n",
    "        time.time()-start))\n",
    "    \n",
    "    # Evaluate on dev set \n",
    "    dev_words, dev_loss = 0, 0.0\n",
    "    start = time.time()\n",
    "    model.eval() \n",
    "    for sent_id, sent in enumerate(dev):\n",
    "        my_loss = calc_sent_loss(sent)\n",
    "        dev_loss += my_loss.item()\n",
    "        dev_words += len(sent)\n",
    "    \n",
    "    # Why 709?\n",
    "    dev_ppl = float('inf') if dev_loss / dev_words > 709 else math.exp(dev_loss / dev_words)\n",
    "    print(\"iter {}: dev loss/word={}, ppl={}, time={}\".format(\n",
    "        ITER,\n",
    "        dev_loss/dev_words,\n",
    "        dev_ppl,\n",
    "        time.time()-start))"
   ]
  }
 ],
 "metadata": {
  "kernelspec": {
   "display_name": "nn4nlp",
   "language": "python",
   "name": "nn4nlp"
  },
  "language_info": {
   "codemirror_mode": {
    "name": "ipython",
    "version": 3
   },
   "file_extension": ".py",
   "mimetype": "text/x-python",
   "name": "python",
   "nbconvert_exporter": "python",
   "pygments_lexer": "ipython3",
   "version": "3.8.3"
  }
 },
 "nbformat": 4,
 "nbformat_minor": 4
}
