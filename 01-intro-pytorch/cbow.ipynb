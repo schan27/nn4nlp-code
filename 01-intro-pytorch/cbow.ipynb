{
 "cells": [
  {
   "cell_type": "code",
   "execution_count": 1,
   "metadata": {},
   "outputs": [],
   "source": [
    "from collections import defaultdict\n",
    "import time\n",
    "import random\n",
    "import numpy as np\n",
    "\n",
    "import torch\n",
    "from torch import nn\n",
    "from torch.autograd import Variable\n",
    "# from model import CBoW\n",
    "\n",
    "# Functions to read in the corpus\n",
    "w2i = defaultdict(lambda: len(w2i))\n",
    "t2i = defaultdict(lambda: len(t2i))\n",
    "UNK = w2i[\"<unk>\"]\n",
    "def read_dataset(filename):\n",
    "    with open(filename, \"r\") as f:\n",
    "        for line in f:\n",
    "            tag, words = line.lower().strip().split(\" ||| \")\n",
    "            yield ([w2i[x] for x in words.split(\" \")], t2i[tag])\n",
    "\n",
    "# Read in the data\n",
    "train = list(read_dataset(\"../data/classes/train.txt\"))\n",
    "w2i = defaultdict(lambda: UNK, w2i)\n",
    "dev = list(read_dataset(\"../data/classes/test.txt\"))\n",
    "nwords = len(w2i)\n",
    "ntags = len(t2i)"
   ]
  },
  {
   "cell_type": "code",
   "execution_count": 7,
   "metadata": {},
   "outputs": [],
   "source": [
    "class CBoW(torch.nn.Module):\n",
    "    def __init__(self, nwords, ntags, emb_size):\n",
    "        super(CBoW, self).__init__()\n",
    "\n",
    "        \"\"\" layers \"\"\"\n",
    "        self.embedding = nn.Embedding(nwords, emb_size)\n",
    "        # initialize the weights with xavier uniform (Glorot, X. & Bengio, Y. (2010))\n",
    "        nn.init.xavier_uniform_(self.embedding.weight)\n",
    "        \n",
    "        # nn.Linear applies a linear transformation to incoming data\n",
    "        # y = mx + b\n",
    "        self.linear = nn.Linear(emb_size, ntags) # bias is True by default\n",
    "        # initialize the weights with xavier uniform (Glorot, X. & Bengio, Y. (2010))\n",
    "        nn.init.xavier_uniform_(self.linear.weight)\n",
    "\n",
    "    def forward(self, words):\n",
    "        emb = self.embedding(words)\n",
    "        emb_sum = torch.sum(emb, dim=0) # size(emb_sum) = emb_size\n",
    "        emb_sum = emb_sum.view(1, -1) # size(emb_sum) = 1 x emb_size\n",
    "        out = self.linear(emb_sum) # size(out) = 1 x ntags \n",
    "        return out"
   ]
  },
  {
   "cell_type": "code",
   "execution_count": 12,
   "metadata": {},
   "outputs": [],
   "source": [
    "# initialize the model\n",
    "EMB_SIZE=64\n",
    "model = CBoW(nwords, ntags, EMB_SIZE)\n",
    "criterion = nn.CrossEntropyLoss()\n",
    "optimizer = torch.optim.Adam(model.parameters())\n",
    "\n",
    "type = torch.LongTensor\n",
    "use_cuda = torch.cuda.is_available()\n",
    "\n",
    "if use_cuda:\n",
    "    type = torch.cuda.LongTensor\n",
    "    model.cuda()"
   ]
  },
  {
   "cell_type": "code",
   "execution_count": 10,
   "metadata": {},
   "outputs": [
    {
     "name": "stdout",
     "output_type": "stream",
     "text": [
      "iter 0: train loss/sent=0.4735, time=188.69s\n",
      "iter 0: test acc=0.3837\n"
     ]
    }
   ],
   "source": [
    "for ITER in range(1):\n",
    "    # Perform training\n",
    "    random.shuffle(train)\n",
    "    train_loss = 0.0\n",
    "    start = time.time()\n",
    "    model.train()\n",
    "    for words, tag in train:\n",
    "        words = torch.tensor(words).type(type)\n",
    "        tag = torch.tensor([tag]).type(type)\n",
    "        scores = model(words)\n",
    "        loss = criterion(scores, tag)\n",
    "        train_loss += loss.item()\n",
    "        optimizer.zero_grad()\n",
    "        loss.backward()\n",
    "        optimizer.step()\n",
    "    print(\"iter %r: train loss/sent=%.4f, time=%.2fs\" % (\n",
    "                ITER, train_loss/len(train), time.time()-start))\n",
    "    # Perform testing\n",
    "    model.eval()\n",
    "    test_correct = 0.0\n",
    "    for words, tag in dev:\n",
    "        words = torch.tensor(words).type(type)\n",
    "        scores = model(words)[0].detach().cpu().numpy()\n",
    "        predict = np.argmax(scores)\n",
    "        if predict == tag:\n",
    "            test_correct += 1\n",
    "    print(\"iter %r: test acc=%.4f\" % (ITER, test_correct/len(dev)))"
   ]
  }
 ],
 "metadata": {
  "kernelspec": {
   "display_name": "nn4nlp",
   "language": "python",
   "name": "nn4nlp"
  },
  "language_info": {
   "codemirror_mode": {
    "name": "ipython",
    "version": 3
   },
   "file_extension": ".py",
   "mimetype": "text/x-python",
   "name": "python",
   "nbconvert_exporter": "python",
   "pygments_lexer": "ipython3",
   "version": "3.8.5"
  }
 },
 "nbformat": 4,
 "nbformat_minor": 4
}
