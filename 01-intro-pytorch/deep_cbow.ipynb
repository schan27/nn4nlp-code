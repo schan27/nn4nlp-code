{
 "cells": [
  {
   "cell_type": "code",
   "execution_count": 1,
   "metadata": {},
   "outputs": [],
   "source": [
    "from collections import defaultdict\n",
    "import time\n",
    "import random\n",
    "import numpy as np\n",
    "\n",
    "import torch\n",
    "from torch import nn\n",
    "from torch.autograd import Variable\n",
    "# from model import DeepCBoW"
   ]
  },
  {
   "cell_type": "code",
   "execution_count": 2,
   "metadata": {},
   "outputs": [],
   "source": [
    "# Functions to read in the corpus\n",
    "w2i = defaultdict(lambda: len(w2i))\n",
    "t2i = defaultdict(lambda: len(t2i))\n",
    "UNK = w2i[\"<unk>\"]\n",
    "def read_dataset(filename):\n",
    "    with open(filename, \"r\") as f:\n",
    "        for line in f:\n",
    "            tag, words = line.lower().strip().split(\" ||| \")\n",
    "            yield ([w2i[x] for x in words.split(\" \")], t2i[tag])"
   ]
  },
  {
   "cell_type": "code",
   "execution_count": 3,
   "metadata": {},
   "outputs": [],
   "source": [
    "# Read in the data\n",
    "train = list(read_dataset(\"../data/classes/train.txt\"))\n",
    "w2i = defaultdict(lambda: UNK, w2i)\n",
    "dev = list(read_dataset(\"../data/classes/test.txt\"))\n",
    "nwords = len(w2i)\n",
    "ntags = len(t2i)"
   ]
  },
  {
   "cell_type": "code",
   "execution_count": 5,
   "metadata": {},
   "outputs": [],
   "source": [
    "class DeepCBoW(torch.nn.Module):\n",
    "    def __init__(self, nwords, ntags, nlayers, emb_size, hid_size):\n",
    "        super(DeepCBoW, self).__init__()\n",
    "\n",
    "        \"\"\" variables \"\"\"\n",
    "        self.nlayers = nlayers\n",
    "\n",
    "        \"\"\" layers \"\"\"\n",
    "        self.embedding = nn.Embedding(nwords, emb_size)\n",
    "        # initialize the weights with xavier uniform (Glorot, X. & Bengio, Y. (2010))\n",
    "        nn.init.xavier_uniform_(self.embedding.weight)\n",
    "\n",
    "        # add nlayers number of layers\n",
    "        self.linears = nn.ModuleList([\n",
    "                nn.Linear(emb_size if i == 0 else hid_size, hid_size) \\\n",
    "                for i in range(nlayers)])\n",
    "        # initialize the weights with xavier uniform (Glorot, X. & Bengio, Y. (2010))\n",
    "        for i in range(nlayers):\n",
    "            nn.init.xavier_uniform_(self.linears[i].weight)\n",
    "\n",
    "        self.output_layer = nn.Linear(hid_size, ntags)\n",
    "        # initialize the weights with xavier uniform (Glorot, X. & Bengio, Y. (2010))\n",
    "        nn.init.xavier_uniform_(self.output_layer.weight)\n",
    "\n",
    "    def forward(self, words):\n",
    "        emb = self.embedding(words)\n",
    "        emb_sum = torch.sum(emb, dim=0) # size(emb_sum) = emb_size\n",
    "        h = emb_sum.view(1, -1) # size(h) = 1 x emb_size\n",
    "        for i in range(self.nlayers):\n",
    "            h = torch.tanh(self.linears[i](h)) # new hidden layer\n",
    "        out = self.output_layer(h)\n",
    "        return out"
   ]
  },
  {
   "cell_type": "code",
   "execution_count": 6,
   "metadata": {},
   "outputs": [],
   "source": [
    "# initialize the model\n",
    "EMB_SIZE = 64\n",
    "HID_SIZE = 64\n",
    "NLAYERS = 2\n",
    "model = DeepCBoW(nwords, ntags, NLAYERS, EMB_SIZE, HID_SIZE)\n",
    "criterion = nn.CrossEntropyLoss()\n",
    "optimizer = torch.optim.Adam(model.parameters())\n",
    "\n",
    "type = torch.LongTensor\n",
    "use_cuda = torch.cuda.is_available()\n",
    "\n",
    "if use_cuda:\n",
    "    type = torch.cuda.LongTensor\n",
    "    model.cuda()"
   ]
  },
  {
   "cell_type": "markdown",
   "metadata": {},
   "source": [
    "**What is happening in the forward algorithm?**"
   ]
  },
  {
   "cell_type": "code",
   "execution_count": 27,
   "metadata": {},
   "outputs": [
    {
     "data": {
      "text/plain": [
       "tensor([[ 0.0501,  0.0883,  0.0948,  0.0733,  0.0072,  0.0183,  0.0454, -0.0191,\n",
       "          0.0785,  0.0137, -0.0029, -0.0553,  0.0901, -0.0942, -0.0329,  0.0110,\n",
       "         -0.0332,  0.1417, -0.0160,  0.1058,  0.1229,  0.0100,  0.0711, -0.0067,\n",
       "         -0.1250,  0.0965, -0.1606,  0.1043, -0.0297,  0.0020, -0.0315, -0.1196,\n",
       "         -0.0309, -0.0550, -0.0587, -0.0042, -0.2053,  0.1045,  0.0077,  0.1215,\n",
       "          0.0308, -0.1009,  0.0618, -0.0301,  0.1208,  0.0740, -0.0517, -0.0693,\n",
       "          0.1031,  0.0887, -0.1267,  0.0197,  0.1525,  0.0624, -0.0769,  0.0525,\n",
       "          0.0277,  0.0215, -0.1385, -0.0786, -0.0467, -0.0296,  0.0796, -0.0471]],\n",
       "       grad_fn=<AddmmBackward>)"
      ]
     },
     "execution_count": 27,
     "metadata": {},
     "output_type": "execute_result"
    }
   ],
   "source": [
    "layer = nn.Linear(EMB_SIZE, HID_SIZE) # size(layer) = emb_size\n",
    "\n",
    "# Get the sentence embedding by summing over words\n",
    "word_indices = [0, 1, 2]\n",
    "words = torch.tensor(word_indices).type(torch.LongTensor)\n",
    "emb = model.embedding(words)\n",
    "emb_sum = torch.sum(emb, dim=0)\n",
    "\n",
    "# Set the word embedding as the first hidden layer\n",
    "h = emb_sum.view(1, -1) # size(h) = 1 x emb_size\n",
    "layer(h)"
   ]
  },
  {
   "cell_type": "code",
   "execution_count": 7,
   "metadata": {},
   "outputs": [
    {
     "name": "stdout",
     "output_type": "stream",
     "text": [
      "iter 0: train loss/sent=1.4329, time=170.45s\n",
      "iter 0: test acc=0.4163\n"
     ]
    }
   ],
   "source": [
    "for ITER in range(1):\n",
    "    # Perform training\n",
    "    random.shuffle(train)\n",
    "    train_loss = 0.0\n",
    "    start = time.time()\n",
    "    model.train()\n",
    "    for words, tag in train:\n",
    "        words = torch.tensor(words).type(type)\n",
    "        tag = torch.tensor([tag]).type(type)\n",
    "        scores = model(words)\n",
    "        loss = criterion(scores, tag)\n",
    "        train_loss += loss.item()\n",
    "        optimizer.zero_grad()\n",
    "        loss.backward()\n",
    "        optimizer.step()\n",
    "    print(\"iter %r: train loss/sent=%.4f, time=%.2fs\" % (\n",
    "                ITER, train_loss/len(train), time.time()-start))\n",
    "    # Perform testing\n",
    "    model.eval()\n",
    "    test_correct = 0.0\n",
    "    for words, tag in dev:\n",
    "        words = torch.tensor(words).type(type)\n",
    "        scores = model(words)[0].detach().cpu().numpy()\n",
    "        predict = np.argmax(scores)\n",
    "        if predict == tag:\n",
    "            test_correct += 1\n",
    "    print(\"iter %r: test acc=%.4f\" % (ITER, test_correct/len(dev)))"
   ]
  }
 ],
 "metadata": {
  "kernelspec": {
   "display_name": "nn4nlp",
   "language": "python",
   "name": "nn4nlp"
  },
  "language_info": {
   "codemirror_mode": {
    "name": "ipython",
    "version": 3
   },
   "file_extension": ".py",
   "mimetype": "text/x-python",
   "name": "python",
   "nbconvert_exporter": "python",
   "pygments_lexer": "ipython3",
   "version": "3.8.5"
  }
 },
 "nbformat": 4,
 "nbformat_minor": 4
}
