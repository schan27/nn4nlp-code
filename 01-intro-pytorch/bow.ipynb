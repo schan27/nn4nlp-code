{
 "cells": [
  {
   "cell_type": "code",
   "execution_count": 15,
   "metadata": {},
   "outputs": [],
   "source": [
    "from collections import defaultdict\n",
    "import time \n",
    "import random \n",
    "import numpy as np \n",
    "\n",
    "import torch \n",
    "from torch import nn \n",
    "from torch.autograd import Variable\n",
    "# from model import BoW"
   ]
  },
  {
   "cell_type": "code",
   "execution_count": 16,
   "metadata": {},
   "outputs": [
    {
     "data": {
      "text/plain": [
       "([1,\n",
       "  2,\n",
       "  3,\n",
       "  4,\n",
       "  5,\n",
       "  6,\n",
       "  1,\n",
       "  7,\n",
       "  8,\n",
       "  9,\n",
       "  10,\n",
       "  11,\n",
       "  12,\n",
       "  13,\n",
       "  14,\n",
       "  15,\n",
       "  16,\n",
       "  9,\n",
       "  17,\n",
       "  5,\n",
       "  18,\n",
       "  19,\n",
       "  20,\n",
       "  21,\n",
       "  22,\n",
       "  23,\n",
       "  24,\n",
       "  25,\n",
       "  26,\n",
       "  27,\n",
       "  28,\n",
       "  29,\n",
       "  30,\n",
       "  31,\n",
       "  32,\n",
       "  33],\n",
       " 0)"
      ]
     },
     "execution_count": 16,
     "metadata": {},
     "output_type": "execute_result"
    }
   ],
   "source": [
    "# Functions to read in the corpus\n",
    "w2i = defaultdict(lambda: len(w2i))\n",
    "t2i = defaultdict(lambda: len(t2i))\n",
    "UNK = w2i[\"<unk>\"]\n",
    "\n",
    "def read_dataset(filename):\n",
    "    with open(filename) as f:\n",
    "        for line in f:\n",
    "            tag, words = line.lower().strip().split(\" ||| \")\n",
    "            yield [w2i[x] for x in words.split(\" \")], t2i[tag]\n",
    "\n",
    "train = list(read_dataset(train_data))\n",
    "train[0]"
   ]
  },
  {
   "cell_type": "code",
   "execution_count": 6,
   "metadata": {},
   "outputs": [],
   "source": [
    "w2i = defaultdict(lambda: UNK, w2i)"
   ]
  },
  {
   "cell_type": "code",
   "execution_count": 25,
   "metadata": {},
   "outputs": [],
   "source": [
    "class BoW(torch.nn.Module):\n",
    "    def __init__(self, nwords, ntags):\n",
    "        super(BoW, self).__init__()\n",
    "        \"\"\" variables \"\"\"\n",
    "        data_type = torch.FloatTensor\n",
    "        use_cuda = torch.cuda.is_available()\n",
    "        \n",
    "        if use_cuda:\n",
    "            data_type = torch.cuda.FloatTensor\n",
    "        \n",
    "        # bias initialized as a zero vector with same dimensions as the embeddings\n",
    "        self.bias = Variable(torch.zeros(ntags),\n",
    "                             requires_grad=True).type(data_type) \n",
    "\n",
    "        \"\"\" layers \"\"\"\n",
    "        # nn.Embedding takes the params (vocab size, embedding size)\n",
    "        # The embeddings are randomly initialized; values are populated during backprop\n",
    "        # Then, nn.Embedding can be used as a lookup table given the word indices\n",
    "        self.embedding = nn.Embedding(nwords, ntags)\n",
    "        # initialize the weights with xavier uniform (Glorot, X. & Bengio, Y. (2010))\n",
    "        nn.init.xavier_uniform_(self.embedding.weight)\n",
    "\n",
    "\n",
    "    def forward(self, words):\n",
    "        emb = self.embedding(words)\n",
    "        # torch.sum(emb, dim=0) sums a list of embeddings row-wise, so that\n",
    "        # we end up with a 1 x ntags embedding for the sentence\n",
    "        out = torch.sum(emb, dim=0) + self.bias # size(out) = N\n",
    "        out = out.view(1, -1) # size(out) = 1 x N\n",
    "        return out"
   ]
  },
  {
   "cell_type": "code",
   "execution_count": 26,
   "metadata": {},
   "outputs": [],
   "source": [
    "dev = list(read_dataset(\"../data/classes/test.txt\"))\n",
    "\n",
    "nwords = len(w2i)\n",
    "ntags = len(t2i)\n",
    "\n",
    "# Initialize the model\n",
    "model = BoW(nwords, ntags)  # Word ta\n",
    "criterion = nn.CrossEntropyLoss()\n",
    "optimizer = torch.optim.Adam(model.parameters())"
   ]
  },
  {
   "cell_type": "code",
   "execution_count": 27,
   "metadata": {},
   "outputs": [],
   "source": [
    "data_type = torch.LongTensor\n",
    "use_cuda = torch.cuda.is_available()\n",
    "\n",
    "if use_cuda:\n",
    "    data_type = torch.cuda.LongTensor\n",
    "    model.cuda()"
   ]
  },
  {
   "cell_type": "code",
   "execution_count": 28,
   "metadata": {},
   "outputs": [
    {
     "name": "stdout",
     "output_type": "stream",
     "text": [
      "iter 0: train loss/sent=1.4724, time=14.58s\n",
      "iter 0: test acc=0.4054\n"
     ]
    }
   ],
   "source": [
    "for ITER in range(1):\n",
    "    # Perform training\n",
    "    random.shuffle(train)\n",
    "    train_loss = 0.0\n",
    "    start = time.time()\n",
    "    \n",
    "    model.train()\n",
    "    for words, tag in train:\n",
    "        words = torch.tensor(words).type(data_type)\n",
    "        tag = torch.tensor([tag]).type(data_type)\n",
    "        scores = model(words)\n",
    "        loss = criterion(scores, tag)\n",
    "        train_loss += loss.item()\n",
    "        optimizer.zero_grad()\n",
    "        loss.backward()\n",
    "        optimizer.step()\n",
    "    print(\"iter %r: train loss/sent=%.4f, time=%.2fs\" % (\n",
    "                ITER, train_loss/len(train), time.time()-start))\n",
    "    # Perform testing\n",
    "    model.eval()\n",
    "    test_correct = 0.0\n",
    "    for words, tag in dev:\n",
    "        words = torch.tensor(words).type(data_type)\n",
    "        scores = model(words)[0].detach().cpu().numpy()\n",
    "        predict = np.argmax(scores)\n",
    "        if predict == tag:\n",
    "            test_correct += 1\n",
    "    print(\"iter %r: test acc=%.4f\" % (ITER, test_correct/len(dev)))"
   ]
  }
 ],
 "metadata": {
  "kernelspec": {
   "display_name": "nn4nlp",
   "language": "python",
   "name": "nn4nlp"
  },
  "language_info": {
   "codemirror_mode": {
    "name": "ipython",
    "version": 3
   },
   "file_extension": ".py",
   "mimetype": "text/x-python",
   "name": "python",
   "nbconvert_exporter": "python",
   "pygments_lexer": "ipython3",
   "version": "3.8.5"
  }
 },
 "nbformat": 4,
 "nbformat_minor": 4
}
